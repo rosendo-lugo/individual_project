{
 "cells": [
  {
   "cell_type": "code",
   "execution_count": 1,
   "id": "1c47d9d5-d87b-4ea1-a80f-d9a6ec05cd88",
   "metadata": {
    "tags": []
   },
   "outputs": [],
   "source": [
    "import pandas as pd\n",
    "from datetime import timedelta, datetime\n",
    "import numpy as np\n",
    "\n",
    "import matplotlib.pyplot as plt\n",
    "import seaborn as sns"
   ]
  },
  {
   "cell_type": "code",
   "execution_count": 2,
   "id": "149b040e-49ce-441e-9331-a7c56659c3d0",
   "metadata": {},
   "outputs": [],
   "source": [
    "df = pd.read_csv('NFL_dataset.csv')"
   ]
  },
  {
   "cell_type": "code",
   "execution_count": 3,
   "id": "c1037996-9659-4f9f-bf01-a3360267cadf",
   "metadata": {},
   "outputs": [
    {
     "name": "stdout",
     "output_type": "stream",
     "text": [
      "<class 'pandas.core.frame.DataFrame'>\n",
      "RangeIndex: 672 entries, 0 to 671\n",
      "Data columns (total 14 columns):\n",
      " #   Column  Non-Null Count  Dtype  \n",
      "---  ------  --------------  -----  \n",
      " 0   year    672 non-null    int64  \n",
      " 1   Tm      672 non-null    object \n",
      " 2   W       672 non-null    int64  \n",
      " 3   L       672 non-null    int64  \n",
      " 4   T       672 non-null    int64  \n",
      " 5   W-L%    672 non-null    float64\n",
      " 6   PF      672 non-null    int64  \n",
      " 7   PA      672 non-null    int64  \n",
      " 8   PD      672 non-null    int64  \n",
      " 9   MoV     672 non-null    float64\n",
      " 10  SoS     672 non-null    float64\n",
      " 11  SRS     672 non-null    float64\n",
      " 12  OSRS    672 non-null    float64\n",
      " 13  DSRS    672 non-null    float64\n",
      "dtypes: float64(6), int64(7), object(1)\n",
      "memory usage: 73.6+ KB\n"
     ]
    }
   ],
   "source": [
    "df.info()"
   ]
  },
  {
   "cell_type": "code",
   "execution_count": 4,
   "id": "982e5222-d39b-42c2-bcf4-313402f19577",
   "metadata": {},
   "outputs": [
    {
     "data": {
      "text/html": [
       "<div>\n",
       "<style scoped>\n",
       "    .dataframe tbody tr th:only-of-type {\n",
       "        vertical-align: middle;\n",
       "    }\n",
       "\n",
       "    .dataframe tbody tr th {\n",
       "        vertical-align: top;\n",
       "    }\n",
       "\n",
       "    .dataframe thead th {\n",
       "        text-align: right;\n",
       "    }\n",
       "</style>\n",
       "<table border=\"1\" class=\"dataframe\">\n",
       "  <thead>\n",
       "    <tr style=\"text-align: right;\">\n",
       "      <th></th>\n",
       "      <th>year</th>\n",
       "      <th>Tm</th>\n",
       "      <th>W</th>\n",
       "      <th>L</th>\n",
       "      <th>T</th>\n",
       "      <th>W-L%</th>\n",
       "      <th>PF</th>\n",
       "      <th>PA</th>\n",
       "      <th>PD</th>\n",
       "      <th>MoV</th>\n",
       "      <th>SoS</th>\n",
       "      <th>SRS</th>\n",
       "      <th>OSRS</th>\n",
       "      <th>DSRS</th>\n",
       "    </tr>\n",
       "  </thead>\n",
       "  <tbody>\n",
       "    <tr>\n",
       "      <th>0</th>\n",
       "      <td>2022</td>\n",
       "      <td>Buffalo Bills*</td>\n",
       "      <td>13</td>\n",
       "      <td>3</td>\n",
       "      <td>0</td>\n",
       "      <td>0.813</td>\n",
       "      <td>455</td>\n",
       "      <td>286</td>\n",
       "      <td>169</td>\n",
       "      <td>10.6</td>\n",
       "      <td>0.4</td>\n",
       "      <td>10.9</td>\n",
       "      <td>7.1</td>\n",
       "      <td>3.8</td>\n",
       "    </tr>\n",
       "    <tr>\n",
       "      <th>1</th>\n",
       "      <td>2022</td>\n",
       "      <td>Miami Dolphins+</td>\n",
       "      <td>9</td>\n",
       "      <td>8</td>\n",
       "      <td>0</td>\n",
       "      <td>0.529</td>\n",
       "      <td>397</td>\n",
       "      <td>399</td>\n",
       "      <td>-2</td>\n",
       "      <td>-0.1</td>\n",
       "      <td>2.0</td>\n",
       "      <td>1.8</td>\n",
       "      <td>2.7</td>\n",
       "      <td>-0.9</td>\n",
       "    </tr>\n",
       "    <tr>\n",
       "      <th>2</th>\n",
       "      <td>2022</td>\n",
       "      <td>New England Patriots</td>\n",
       "      <td>8</td>\n",
       "      <td>9</td>\n",
       "      <td>0</td>\n",
       "      <td>0.471</td>\n",
       "      <td>364</td>\n",
       "      <td>347</td>\n",
       "      <td>17</td>\n",
       "      <td>1.0</td>\n",
       "      <td>1.0</td>\n",
       "      <td>2.0</td>\n",
       "      <td>-0.3</td>\n",
       "      <td>2.3</td>\n",
       "    </tr>\n",
       "    <tr>\n",
       "      <th>3</th>\n",
       "      <td>2022</td>\n",
       "      <td>New York Jets</td>\n",
       "      <td>7</td>\n",
       "      <td>10</td>\n",
       "      <td>0</td>\n",
       "      <td>0.412</td>\n",
       "      <td>296</td>\n",
       "      <td>316</td>\n",
       "      <td>-20</td>\n",
       "      <td>-1.2</td>\n",
       "      <td>2.0</td>\n",
       "      <td>0.8</td>\n",
       "      <td>-4.0</td>\n",
       "      <td>4.8</td>\n",
       "    </tr>\n",
       "    <tr>\n",
       "      <th>4</th>\n",
       "      <td>2022</td>\n",
       "      <td>Cincinnati Bengals*</td>\n",
       "      <td>12</td>\n",
       "      <td>4</td>\n",
       "      <td>0</td>\n",
       "      <td>0.750</td>\n",
       "      <td>418</td>\n",
       "      <td>322</td>\n",
       "      <td>96</td>\n",
       "      <td>6.0</td>\n",
       "      <td>0.9</td>\n",
       "      <td>6.9</td>\n",
       "      <td>5.5</td>\n",
       "      <td>1.4</td>\n",
       "    </tr>\n",
       "  </tbody>\n",
       "</table>\n",
       "</div>"
      ],
      "text/plain": [
       "   year                    Tm   W   L  T   W-L%   PF   PA   PD   MoV  SoS  \\\n",
       "0  2022        Buffalo Bills*  13   3  0  0.813  455  286  169  10.6  0.4   \n",
       "1  2022       Miami Dolphins+   9   8  0  0.529  397  399   -2  -0.1  2.0   \n",
       "2  2022  New England Patriots   8   9  0  0.471  364  347   17   1.0  1.0   \n",
       "3  2022         New York Jets   7  10  0  0.412  296  316  -20  -1.2  2.0   \n",
       "4  2022   Cincinnati Bengals*  12   4  0  0.750  418  322   96   6.0  0.9   \n",
       "\n",
       "    SRS  OSRS  DSRS  \n",
       "0  10.9   7.1   3.8  \n",
       "1   1.8   2.7  -0.9  \n",
       "2   2.0  -0.3   2.3  \n",
       "3   0.8  -4.0   4.8  \n",
       "4   6.9   5.5   1.4  "
      ]
     },
     "execution_count": 4,
     "metadata": {},
     "output_type": "execute_result"
    }
   ],
   "source": [
    "df.head()"
   ]
  },
  {
   "cell_type": "code",
   "execution_count": 5,
   "id": "01f7e870-4ad3-4b04-ba61-7944c1dcecaf",
   "metadata": {},
   "outputs": [
    {
     "name": "stderr",
     "output_type": "stream",
     "text": [
      "/var/folders/67/bss6mpl54l73122199y9h3r40000gn/T/ipykernel_15654/4063952130.py:3: FutureWarning: The default value of regex will change from True to False in a future version. In addition, single character regular expressions will *not* be treated as literal strings when regex=True.\n",
      "  df.Tm = df.Tm.str.replace('*', '')\n"
     ]
    }
   ],
   "source": [
    "# replace the space with a lower dash\n",
    "df.Tm = df.Tm.str.replace(' ', '_')\n",
    "df.Tm = df.Tm.str.replace('*', '')\n",
    "\n",
    "df.columns = df.columns.str.lower()\n",
    "\n",
    "# change the date from object to datetime and save it back to the date column\n",
    "# convert the date from object to datetime\n",
    "df.year = pd.to_datetime(df.year, format = '%Y')\n",
    "\n",
    "# set sale_date as the index\n",
    "df = df.set_index('year')\n",
    "\n",
    "# sort the index (sale_date)\n",
    "df = df.sort_index()\n",
    "\n"
   ]
  },
  {
   "cell_type": "code",
   "execution_count": 6,
   "id": "eaeae3f8-d465-426d-a4d2-32c1d2bc61e8",
   "metadata": {},
   "outputs": [
    {
     "name": "stdout",
     "output_type": "stream",
     "text": [
      "<class 'pandas.core.frame.DataFrame'>\n",
      "DatetimeIndex: 672 entries, 2002-01-01 to 2022-01-01\n",
      "Data columns (total 13 columns):\n",
      " #   Column  Non-Null Count  Dtype  \n",
      "---  ------  --------------  -----  \n",
      " 0   tm      672 non-null    object \n",
      " 1   w       672 non-null    int64  \n",
      " 2   l       672 non-null    int64  \n",
      " 3   t       672 non-null    int64  \n",
      " 4   w-l%    672 non-null    float64\n",
      " 5   pf      672 non-null    int64  \n",
      " 6   pa      672 non-null    int64  \n",
      " 7   pd      672 non-null    int64  \n",
      " 8   mov     672 non-null    float64\n",
      " 9   sos     672 non-null    float64\n",
      " 10  srs     672 non-null    float64\n",
      " 11  osrs    672 non-null    float64\n",
      " 12  dsrs    672 non-null    float64\n",
      "dtypes: float64(6), int64(6), object(1)\n",
      "memory usage: 73.5+ KB\n"
     ]
    }
   ],
   "source": [
    "df.info()"
   ]
  },
  {
   "cell_type": "markdown",
   "id": "94ad4802-258d-468d-97ee-36816667130c",
   "metadata": {},
   "source": [
    "## Percentage-Based"
   ]
  },
  {
   "cell_type": "code",
   "execution_count": 7,
   "id": "8197b4ca-cdac-48f2-b547-b55cf2d97ebe",
   "metadata": {},
   "outputs": [],
   "source": [
    "train_size = 0.70 \n",
    "n = df.shape[0] \n",
    "test_start_index = round(train_size * n)"
   ]
  },
  {
   "cell_type": "code",
   "execution_count": 8,
   "id": "2719ce71-b5f7-4643-b356-8ab51750d8d9",
   "metadata": {},
   "outputs": [],
   "source": [
    "train = df.iloc[:test_start_index] \n",
    "test = df.iloc[test_start_index:] "
   ]
  },
  {
   "cell_type": "code",
   "execution_count": 10,
   "id": "22d95fce-5160-463b-a6c4-6ab0769ed292",
   "metadata": {},
   "outputs": [
    {
     "data": {
      "image/png": "[encoded data removed]",
      "text/plain": [
       "<Figure size 640x480 with 1 Axes>"
      ]
     },
     "metadata": {},
     "output_type": "display_data"
    }
   ],
   "source": [
    "plt.plot(train.w)\n",
    "plt.plot(test.w)\n",
    "plt.title('Teams wins over time')\n",
    "plt.show()"
   ]
  },
  {
   "cell_type": "code",
   "execution_count": 11,
   "id": "6d1a6687-4143-4094-9168-2b82c9ab8e2c",
   "metadata": {},
   "outputs": [
    {
     "data": {
      "text/plain": [
       "year\n",
       "2002-01-01    5\n",
       "2002-01-01    9\n",
       "2002-01-01    9\n",
       "2002-01-01    9\n",
       "2002-01-01    8\n",
       "Name: w, dtype: int64"
      ]
     },
     "execution_count": 11,
     "metadata": {},
     "output_type": "execute_result"
    }
   ],
   "source": [
    "y = train.w\n",
    "y.head()"
   ]
  },
  {
   "cell_type": "code",
   "execution_count": 12,
   "id": "e691512c-5807-41ae-a6be-5f1df28b466b",
   "metadata": {},
   "outputs": [
    {
     "data": {
      "image/png": "[encoded data removed]",
      "text/plain": [
       "<Figure size 640x480 with 1 Axes>"
      ]
     },
     "metadata": {},
     "output_type": "display_data"
    }
   ],
   "source": [
    "train.w.plot.hist()\n",
    "plt.title('distribution of Wins')\n",
    "plt.show()"
   ]
  },
  {
   "cell_type": "code",
   "execution_count": 13,
   "id": "71276d0c-1416-4763-a62b-d084177982c2",
   "metadata": {},
   "outputs": [
    {
     "data": {
      "image/png": "[encoded data removed]",
      "text/plain": [
       "<Figure size 640x480 with 1 Axes>"
      ]
     },
     "metadata": {},
     "output_type": "display_data"
    }
   ],
   "source": [
    "train.groupby(train.index.month).w.mean()\\\n",
    ".plot.bar().tick_params('x', rotation=0)\n",
    "\n",
    "plt.title('mean Wins by month')\n",
    "plt.show()"
   ]
  },
  {
   "cell_type": "code",
   "execution_count": null,
   "id": "18df2931-64ed-43f5-9556-83c147a0a925",
   "metadata": {},
   "outputs": [],
   "source": [
    "# assign a weekday column from the day_name() method on the datetime index\n",
    "train['weekday'] = train.index.day_name()\n",
    "train['day_num'] = train.index.day_of_week"
   ]
  },
  {
   "cell_type": "code",
   "execution_count": null,
   "id": "daf3eca5-0ca6-40da-be86-c3d839608268",
   "metadata": {},
   "outputs": [],
   "source": []
  },
  {
   "cell_type": "code",
   "execution_count": null,
   "id": "4bab8dc6-a9fe-4d9a-b63b-c5839e910611",
   "metadata": {},
   "outputs": [],
   "source": []
  }
 ],
 "metadata": {
  "kernelspec": {
   "display_name": "Python 3 (ipykernel)",
   "language": "python",
   "name": "python3"
  },
  "language_info": {
   "codemirror_mode": {
    "name": "ipython",
    "version": 3
   },
   "file_extension": ".py",
   "mimetype": "text/x-python",
   "name": "python",
   "nbconvert_exporter": "python",
   "pygments_lexer": "ipython3",
   "version": "3.9.13"
  }
 },
 "nbformat": 4,
 "nbformat_minor": 5
}
